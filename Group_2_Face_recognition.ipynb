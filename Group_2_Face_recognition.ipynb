{
  "cells": [
    {
      "cell_type": "markdown",
      "metadata": {
        "id": "view-in-github",
        "colab_type": "text"
      },
      "source": [
        "<a href=\"https://colab.research.google.com/github/Fidel-Leanne/feature-branch/blob/master/Group_2_Face_recognition.ipynb\" target=\"_parent\"><img src=\"https://colab.research.google.com/assets/colab-badge.svg\" alt=\"Open In Colab\"/></a>"
      ]
    },
    {
      "cell_type": "code",
      "execution_count": null,
      "metadata": {
        "id": "XleX1sXYiQyz"
      },
      "outputs": [],
      "source": [
        "import matplotlib.pyplot as plt\n",
        "import numpy as np\n",
        "import PIL\n",
        "import tensorflow as tf\n",
        "#import pandas as pd\n",
        "import cv2\n",
        "\n",
        "from tensorflow import keras\n",
        "from tensorflow.keras import layers\n",
        "from tensorflow.keras.models import Sequential\n"
      ]
    },
    {
      "cell_type": "code",
      "execution_count": null,
      "metadata": {
        "id": "QsoPqMv-AN5i"
      },
      "outputs": [],
      "source": []
    },
    {
      "cell_type": "code",
      "execution_count": null,
      "metadata": {
        "colab": {
          "base_uri": "https://localhost:8080/"
        },
        "id": "jfAP4KgWncaW",
        "outputId": "634dde2a-2ca2-4b2d-c47d-519890e06542"
      },
      "outputs": [
        {
          "output_type": "stream",
          "name": "stdout",
          "text": [
            "Package                       Version\n",
            "----------------------------- ----------------------------\n",
            "absl-py                       1.2.0\n",
            "aeppl                         0.0.33\n",
            "aesara                        2.7.9\n",
            "aiohttp                       3.8.1\n",
            "aiosignal                     1.2.0\n",
            "alabaster                     0.7.12\n",
            "albumentations                1.2.1\n",
            "altair                        4.2.0\n",
            "appdirs                       1.4.4\n",
            "arviz                         0.12.1\n",
            "astor                         0.8.1\n",
            "astropy                       4.3.1\n",
            "astunparse                    1.6.3\n",
            "async-timeout                 4.0.2\n",
            "asynctest                     0.13.0\n",
            "atari-py                      0.2.9\n",
            "atomicwrites                  1.4.1\n",
            "attrs                         22.1.0\n",
            "audioread                     3.0.0\n",
            "autograd                      1.4\n",
            "Babel                         2.10.3\n",
            "backcall                      0.2.0\n",
            "beautifulsoup4                4.6.3\n",
            "bleach                        5.0.1\n",
            "blis                          0.7.8\n",
            "bokeh                         2.3.3\n",
            "branca                        0.5.0\n",
            "bs4                           0.0.1\n",
            "CacheControl                  0.12.11\n",
            "cached-property               1.5.2\n",
            "cachetools                    4.2.4\n",
            "catalogue                     2.0.8\n",
            "certifi                       2022.6.15\n",
            "cffi                          1.15.1\n",
            "cftime                        1.6.1\n",
            "chardet                       3.0.4\n",
            "charset-normalizer            2.1.1\n",
            "click                         7.1.2\n",
            "clikit                        0.6.2\n",
            "cloudpickle                   1.5.0\n",
            "cmake                         3.22.6\n",
            "cmdstanpy                     1.0.7\n",
            "colorcet                      3.0.0\n",
            "colorlover                    0.3.0\n",
            "community                     1.0.0b1\n",
            "cons                          0.4.5\n",
            "contextlib2                   0.5.5\n",
            "convertdate                   2.4.0\n",
            "crashtest                     0.3.1\n",
            "crcmod                        1.7\n",
            "cufflinks                     0.17.3\n",
            "cvxopt                        1.3.0\n",
            "cvxpy                         1.2.1\n",
            "cycler                        0.11.0\n",
            "cymem                         2.0.6\n",
            "Cython                        0.29.32\n",
            "daft                          0.0.4\n",
            "dask                          2022.2.0\n",
            "datascience                   0.17.5\n",
            "debugpy                       1.0.0\n",
            "decorator                     4.4.2\n",
            "defusedxml                    0.7.1\n",
            "descartes                     1.1.0\n",
            "dill                          0.3.5.1\n",
            "distributed                   2022.2.0\n",
            "dlib                          19.24.0\n",
            "dm-tree                       0.1.7\n",
            "docutils                      0.17.1\n",
            "dopamine-rl                   1.0.5\n",
            "earthengine-api               0.1.322\n",
            "easydict                      1.9\n",
            "ecos                          2.0.10\n",
            "editdistance                  0.5.3\n",
            "en-core-web-sm                3.4.0\n",
            "entrypoints                   0.4\n",
            "ephem                         4.1.3\n",
            "et-xmlfile                    1.1.0\n",
            "etils                         0.7.1\n",
            "etuples                       0.3.5\n",
            "fa2                           0.3.5\n",
            "fastai                        2.7.9\n",
            "fastcore                      1.5.22\n",
            "fastdownload                  0.0.7\n",
            "fastdtw                       0.3.4\n",
            "fastjsonschema                2.16.1\n",
            "fastprogress                  1.0.3\n",
            "fastrlock                     0.8\n",
            "feather-format                0.4.1\n",
            "filelock                      3.8.0\n",
            "firebase-admin                4.4.0\n",
            "fix-yahoo-finance             0.0.22\n",
            "Flask                         1.1.4\n",
            "flatbuffers                   2.0.7\n",
            "folium                        0.12.1.post1\n",
            "frozenlist                    1.3.1\n",
            "fsspec                        2022.8.1\n",
            "future                        0.16.0\n",
            "gast                          0.5.3\n",
            "GDAL                          2.2.2\n",
            "gdown                         4.4.0\n",
            "gensim                        3.6.0\n",
            "geographiclib                 1.52\n",
            "geopy                         1.17.0\n",
            "gin-config                    0.5.0\n",
            "glob2                         0.7\n",
            "google                        2.0.3\n",
            "google-api-core               1.31.6\n",
            "google-api-python-client      1.12.11\n",
            "google-auth                   1.35.0\n",
            "google-auth-httplib2          0.0.4\n",
            "google-auth-oauthlib          0.4.6\n",
            "google-cloud-bigquery         1.21.0\n",
            "google-cloud-bigquery-storage 1.1.2\n",
            "google-cloud-core             1.0.3\n",
            "google-cloud-datastore        1.8.0\n",
            "google-cloud-firestore        1.7.0\n",
            "google-cloud-language         1.2.0\n",
            "google-cloud-storage          1.18.1\n",
            "google-cloud-translate        1.5.0\n",
            "google-colab                  1.0.0\n",
            "google-pasta                  0.2.0\n",
            "google-resumable-media        0.4.1\n",
            "googleapis-common-protos      1.56.4\n",
            "googledrivedownloader         0.4\n",
            "graphviz                      0.10.1\n",
            "greenlet                      1.1.3\n",
            "grpcio                        1.47.0\n",
            "gspread                       3.4.2\n",
            "gspread-dataframe             3.0.8\n",
            "gym                           0.25.2\n",
            "gym-notices                   0.0.8\n",
            "h5py                          3.1.0\n",
            "HeapDict                      1.0.1\n",
            "hijri-converter               2.2.4\n",
            "holidays                      0.15\n",
            "holoviews                     1.14.9\n",
            "html5lib                      1.0.1\n",
            "httpimport                    0.5.18\n",
            "httplib2                      0.17.4\n",
            "httplib2shim                  0.0.3\n",
            "httpstan                      4.6.1\n",
            "humanize                      0.5.1\n",
            "hyperopt                      0.1.2\n",
            "idna                          2.10\n",
            "imageio                       2.9.0\n",
            "imagesize                     1.4.1\n",
            "imbalanced-learn              0.8.1\n",
            "imblearn                      0.0\n",
            "imgaug                        0.4.0\n",
            "importlib-metadata            4.12.0\n",
            "importlib-resources           5.9.0\n",
            "imutils                       0.5.4\n",
            "inflect                       2.1.0\n",
            "intel-openmp                  2022.1.0\n",
            "intervaltree                  2.1.0\n",
            "ipykernel                     5.3.4\n",
            "ipython                       7.9.0\n",
            "ipython-genutils              0.2.0\n",
            "ipython-sql                   0.3.9\n",
            "ipywidgets                    7.7.1\n",
            "itsdangerous                  1.1.0\n",
            "jax                           0.3.17\n",
            "jaxlib                        0.3.15+cuda11.cudnn805\n",
            "jieba                         0.42.1\n",
            "Jinja2                        2.11.3\n",
            "joblib                        1.1.0\n",
            "jpeg4py                       0.1.4\n",
            "jsonschema                    4.3.3\n",
            "jupyter-client                6.1.12\n",
            "jupyter-console               6.1.0\n",
            "jupyter-core                  4.11.1\n",
            "jupyterlab-widgets            3.0.2\n",
            "kaggle                        1.5.12\n",
            "kapre                         0.3.7\n",
            "keras                         2.8.0\n",
            "Keras-Preprocessing           1.1.2\n",
            "keras-vis                     0.4.1\n",
            "kiwisolver                    1.4.4\n",
            "korean-lunar-calendar         0.2.1\n",
            "langcodes                     3.3.0\n",
            "libclang                      14.0.6\n",
            "librosa                       0.8.1\n",
            "lightgbm                      2.2.3\n",
            "llvmlite                      0.39.0\n",
            "lmdb                          0.99\n",
            "locket                        1.0.0\n",
            "logical-unification           0.4.5\n",
            "LunarCalendar                 0.0.9\n",
            "lxml                          4.9.1\n",
            "Markdown                      3.4.1\n",
            "MarkupSafe                    2.0.1\n",
            "marshmallow                   3.17.1\n",
            "matplotlib                    3.2.2\n",
            "matplotlib-venn               0.11.7\n",
            "miniKanren                    1.0.3\n",
            "missingno                     0.5.1\n",
            "mistune                       0.8.4\n",
            "mizani                        0.7.3\n",
            "mkl                           2019.0\n",
            "mlxtend                       0.14.0\n",
            "more-itertools                8.14.0\n",
            "moviepy                       0.2.3.5\n",
            "mpmath                        1.2.1\n",
            "msgpack                       1.0.4\n",
            "multidict                     6.0.2\n",
            "multipledispatch              0.6.0\n",
            "multitasking                  0.0.11\n",
            "murmurhash                    1.0.8\n",
            "music21                       5.5.0\n",
            "natsort                       5.5.0\n",
            "nbconvert                     5.6.1\n",
            "nbformat                      5.4.0\n",
            "netCDF4                       1.6.0\n",
            "networkx                      2.6.3\n",
            "nibabel                       3.0.2\n",
            "nltk                          3.7\n",
            "notebook                      5.3.1\n",
            "numba                         0.56.0\n",
            "numexpr                       2.8.3\n",
            "numpy                         1.21.6\n",
            "oauth2client                  4.1.3\n",
            "oauthlib                      3.2.0\n",
            "okgrade                       0.4.3\n",
            "opencv-contrib-python         4.6.0.66\n",
            "opencv-python                 4.6.0.66\n",
            "opencv-python-headless        4.6.0.66\n",
            "openpyxl                      3.0.10\n",
            "opt-einsum                    3.3.0\n",
            "osqp                          0.6.2.post0\n",
            "packaging                     21.3\n",
            "palettable                    3.3.0\n",
            "pandas                        1.3.5\n",
            "pandas-datareader             0.9.0\n",
            "pandas-gbq                    0.13.3\n",
            "pandas-profiling              1.4.1\n",
            "pandocfilters                 1.5.0\n",
            "panel                         0.12.1\n",
            "param                         1.12.2\n",
            "parso                         0.8.3\n",
            "partd                         1.3.0\n",
            "pastel                        0.2.1\n",
            "pathlib                       1.0.1\n",
            "pathy                         0.6.2\n",
            "patsy                         0.5.2\n",
            "pep517                        0.13.0\n",
            "pexpect                       4.8.0\n",
            "pickleshare                   0.7.5\n",
            "Pillow                        7.1.2\n",
            "pip                           21.1.3\n",
            "pip-tools                     6.2.0\n",
            "plotly                        5.5.0\n",
            "plotnine                      0.8.0\n",
            "pluggy                        0.7.1\n",
            "pooch                         1.6.0\n",
            "portpicker                    1.3.9\n",
            "prefetch-generator            1.0.1\n",
            "preshed                       3.0.7\n",
            "prettytable                   3.4.0\n",
            "progressbar2                  3.38.0\n",
            "promise                       2.3\n",
            "prompt-toolkit                2.0.10\n",
            "prophet                       1.1\n",
            "protobuf                      3.17.3\n",
            "psutil                        5.4.8\n",
            "psycopg2                      2.9.3\n",
            "ptyprocess                    0.7.0\n",
            "py                            1.11.0\n",
            "pyarrow                       6.0.1\n",
            "pyasn1                        0.4.8\n",
            "pyasn1-modules                0.2.8\n",
            "pycocotools                   2.0.4\n",
            "pycparser                     2.21\n",
            "pyct                          0.4.8\n",
            "pydantic                      1.9.2\n",
            "pydata-google-auth            1.4.0\n",
            "pydot                         1.3.0\n",
            "pydot-ng                      2.0.0\n",
            "pydotplus                     2.0.2\n",
            "PyDrive                       1.3.1\n",
            "pyemd                         0.5.1\n",
            "pyerfa                        2.0.0.1\n",
            "Pygments                      2.6.1\n",
            "pygobject                     3.26.1\n",
            "pylev                         1.4.0\n",
            "pymc                          4.1.4\n",
            "PyMeeus                       0.5.11\n",
            "pymongo                       4.2.0\n",
            "pymystem3                     0.2.0\n",
            "PyOpenGL                      3.1.6\n",
            "pyparsing                     3.0.9\n",
            "pyrsistent                    0.18.1\n",
            "pysimdjson                    3.2.0\n",
            "pysndfile                     1.3.8\n",
            "PySocks                       1.7.1\n",
            "pystan                        3.3.0\n",
            "pytest                        3.6.4\n",
            "python-apt                    0.0.0\n",
            "python-chess                  0.23.11\n",
            "python-dateutil               2.8.2\n",
            "python-louvain                0.16\n",
            "python-slugify                6.1.2\n",
            "python-utils                  3.3.3\n",
            "pytz                          2022.2.1\n",
            "pyviz-comms                   2.2.1\n",
            "PyWavelets                    1.3.0\n",
            "PyYAML                        6.0\n",
            "pyzmq                         23.2.1\n",
            "qdldl                         0.1.5.post2\n",
            "qudida                        0.0.4\n",
            "regex                         2022.6.2\n",
            "requests                      2.23.0\n",
            "requests-oauthlib             1.3.1\n",
            "resampy                       0.4.0\n",
            "rpy2                          3.4.5\n",
            "rsa                           4.9\n",
            "scikit-image                  0.18.3\n",
            "scikit-learn                  1.0.2\n",
            "scipy                         1.7.3\n",
            "screen-resolution-extra       0.0.0\n",
            "scs                           3.2.0\n",
            "seaborn                       0.11.2\n",
            "Send2Trash                    1.8.0\n",
            "setuptools                    57.4.0\n",
            "setuptools-git                1.2\n",
            "Shapely                       1.8.4\n",
            "six                           1.15.0\n",
            "sklearn-pandas                1.8.0\n",
            "smart-open                    5.2.1\n",
            "snowballstemmer               2.2.0\n",
            "sortedcontainers              2.4.0\n",
            "SoundFile                     0.10.3.post1\n",
            "spacy                         3.4.1\n",
            "spacy-legacy                  3.0.10\n",
            "spacy-loggers                 1.0.3\n",
            "Sphinx                        1.8.6\n",
            "sphinxcontrib-serializinghtml 1.1.5\n",
            "sphinxcontrib-websupport      1.2.4\n",
            "SQLAlchemy                    1.4.40\n",
            "sqlparse                      0.4.2\n",
            "srsly                         2.4.4\n",
            "statsmodels                   0.12.2\n",
            "sympy                         1.7.1\n",
            "tables                        3.7.0\n",
            "tabulate                      0.8.10\n",
            "tblib                         1.7.0\n",
            "tenacity                      8.0.1\n",
            "tensorboard                   2.8.0\n",
            "tensorboard-data-server       0.6.1\n",
            "tensorboard-plugin-wit        1.8.1\n",
            "tensorflow                    2.8.2+zzzcolab20220719082949\n",
            "tensorflow-datasets           4.6.0\n",
            "tensorflow-estimator          2.8.0\n",
            "tensorflow-gcs-config         2.8.0\n",
            "tensorflow-hub                0.12.0\n",
            "tensorflow-io-gcs-filesystem  0.26.0\n",
            "tensorflow-metadata           1.10.0\n",
            "tensorflow-probability        0.16.0\n",
            "termcolor                     1.1.0\n",
            "terminado                     0.13.3\n",
            "testpath                      0.6.0\n",
            "text-unidecode                1.3\n",
            "textblob                      0.15.3\n",
            "thinc                         8.1.0\n",
            "threadpoolctl                 3.1.0\n",
            "tifffile                      2021.11.2\n",
            "toml                          0.10.2\n",
            "tomli                         2.0.1\n",
            "toolz                         0.12.0\n",
            "torch                         1.12.1+cu113\n",
            "torchaudio                    0.12.1+cu113\n",
            "torchsummary                  1.5.1\n",
            "torchtext                     0.13.1\n",
            "torchvision                   0.13.1+cu113\n",
            "tornado                       5.1.1\n",
            "tqdm                          4.64.0\n",
            "traitlets                     5.1.1\n",
            "tweepy                        3.10.0\n",
            "typeguard                     2.7.1\n",
            "typer                         0.4.2\n",
            "typing-extensions             4.1.1\n",
            "tzlocal                       1.5.1\n",
            "ujson                         5.4.0\n",
            "uritemplate                   3.0.1\n",
            "urllib3                       1.24.3\n",
            "vega-datasets                 0.9.0\n",
            "wasabi                        0.10.1\n",
            "wcwidth                       0.2.5\n",
            "webargs                       8.2.0\n",
            "webencodings                  0.5.1\n",
            "Werkzeug                      1.0.1\n",
            "wheel                         0.37.1\n",
            "widgetsnbextension            3.6.1\n",
            "wordcloud                     1.8.2.2\n",
            "wrapt                         1.14.1\n",
            "xarray                        0.20.2\n",
            "xarray-einstats               0.2.2\n",
            "xgboost                       0.90\n",
            "xkit                          0.0.0\n",
            "xlrd                          1.1.0\n",
            "xlwt                          1.3.0\n",
            "yarl                          1.8.1\n",
            "yellowbrick                   1.5\n",
            "zict                          2.2.0\n",
            "zipp                          3.8.1\n"
          ]
        }
      ],
      "source": [
        "pip list"
      ]
    },
    {
      "cell_type": "code",
      "execution_count": null,
      "metadata": {
        "id": "Zbk4KxjnncuS"
      },
      "outputs": [],
      "source": [
        "import tensorflow as tf\n",
        "\n",
        "import os"
      ]
    },
    {
      "cell_type": "code",
      "execution_count": null,
      "metadata": {
        "id": "PgXTFPX0imjU"
      },
      "outputs": [],
      "source": [
        "import cv2\n",
        "import imghdr"
      ]
    },
    {
      "cell_type": "code",
      "execution_count": null,
      "metadata": {
        "id": "lYKy4XlkJIbU"
      },
      "outputs": [],
      "source": [
        "data_dir = '/content/drive/MyDrive/Training/Training' "
      ]
    },
    {
      "cell_type": "code",
      "execution_count": null,
      "metadata": {
        "id": "W_MjpzLqKgjH"
      },
      "outputs": [],
      "source": [
        "image_exts = ['jpeg','jpg', 'bmp', 'png']"
      ]
    },
    {
      "cell_type": "code",
      "execution_count": null,
      "metadata": {
        "id": "_7kMbDtJKf8v"
      },
      "outputs": [],
      "source": [
        "import numpy as np\n",
        "from matplotlib import pyplot as plt"
      ]
    },
    {
      "cell_type": "code",
      "execution_count": null,
      "metadata": {
        "colab": {
          "base_uri": "https://localhost:8080/"
        },
        "id": "DNjy1X7WKfsm",
        "outputId": "bb4139e6-f6b5-49d4-80be-db956c1c4bbb"
      },
      "outputs": [
        {
          "output_type": "stream",
          "name": "stdout",
          "text": [
            "Found 17580 files belonging to 6 classes.\n"
          ]
        }
      ],
      "source": [
        "data = tf.keras.utils.image_dataset_from_directory('/content/drive/MyDrive/Training/Training')"
      ]
    },
    {
      "cell_type": "code",
      "execution_count": null,
      "metadata": {
        "colab": {
          "base_uri": "https://localhost:8080/"
        },
        "id": "6PNB2yjgN2dI",
        "outputId": "941caac4-47ba-4e7b-9bc8-1f3891f23c2c"
      },
      "outputs": [
        {
          "output_type": "stream",
          "name": "stdout",
          "text": [
            "['Angry', 'Fear', 'Happy', 'Neutral', 'Sad', 'Suprise']\n"
          ]
        }
      ],
      "source": [
        "\n",
        "class_names = data.class_names\n",
        "print(class_names)"
      ]
    },
    {
      "cell_type": "code",
      "execution_count": null,
      "metadata": {
        "colab": {
          "base_uri": "https://localhost:8080/",
          "height": 591
        },
        "id": "qihUcNEEKfQw",
        "outputId": "daba752f-1135-4b69-ef80-7949170ff874"
      },
      "outputs": [
        {
          "output_type": "display_data",
          "data": {
            "text/plain": [
              "<Figure size 720x720 with 9 Axes>"
            ],
            "image/png": "[encoded data removed]"
          },
          "metadata": {
            "needs_background": "light"
          }
        }
      ],
      "source": [
        "import matplotlib.pyplot as plt\n",
        "\n",
        "\n",
        "plt.figure(figsize=(10, 10))\n",
        "for images, labels in data.take(1):\n",
        "  for i in range(9):\n",
        "    ax = plt.subplot(3, 3, i + 1)\n",
        "    plt.imshow(images[i].numpy().astype(\"uint8\"))\n",
        "    plt.title(class_names[labels[i]])\n",
        "    plt.axis(\"off\")"
      ]
    },
    {
      "cell_type": "code",
      "execution_count": null,
      "metadata": {
        "id": "4CgUww7-OG4x"
      },
      "outputs": [],
      "source": []
    },
    {
      "cell_type": "markdown",
      "metadata": {
        "id": "qUOnK1MSOVzP"
      },
      "source": [
        "SCALING DATA"
      ]
    },
    {
      "cell_type": "code",
      "execution_count": null,
      "metadata": {
        "id": "NVXYWrcuOHMx"
      },
      "outputs": [],
      "source": [
        "#data = data.map(lambda x,y: (x/255, y))"
      ]
    },
    {
      "cell_type": "code",
      "execution_count": null,
      "metadata": {
        "id": "SDRyoTgQUlRf"
      },
      "outputs": [],
      "source": [
        "#data.as_numpy_iterator().next()"
      ]
    },
    {
      "cell_type": "code",
      "execution_count": null,
      "metadata": {
        "id": "bLVpBGNcOvoo"
      },
      "outputs": [],
      "source": []
    },
    {
      "cell_type": "code",
      "execution_count": null,
      "metadata": {
        "id": "Oy09d5z2OvcF"
      },
      "outputs": [],
      "source": [
        "batch_size = 32\n",
        "img_height = 48\n",
        "img_width = 48"
      ]
    },
    {
      "cell_type": "code",
      "execution_count": null,
      "metadata": {
        "colab": {
          "base_uri": "https://localhost:8080/"
        },
        "id": "quYaXrkHPW7-",
        "outputId": "3baba3eb-9c84-45e2-a0ad-29dedaee8404"
      },
      "outputs": [
        {
          "output_type": "stream",
          "name": "stdout",
          "text": [
            "Found 17580 files belonging to 6 classes.\n",
            "Using 14064 files for training.\n"
          ]
        }
      ],
      "source": [
        "train_ds = tf.keras.utils.image_dataset_from_directory(\n",
        "  '/content/drive/MyDrive/Training/Training',\n",
        "  validation_split=0.2,\n",
        "  subset=\"training\",\n",
        "  seed=123,\n",
        "  image_size=(img_height, img_width),\n",
        "  batch_size=batch_size)"
      ]
    },
    {
      "cell_type": "code",
      "execution_count": null,
      "metadata": {
        "colab": {
          "base_uri": "https://localhost:8080/"
        },
        "id": "rXfJnG5qPVdm",
        "outputId": "154d81f0-7421-4642-9ebd-6f63b49f4b75"
      },
      "outputs": [
        {
          "output_type": "stream",
          "name": "stdout",
          "text": [
            "Found 17580 files belonging to 6 classes.\n",
            "Using 3516 files for validation.\n"
          ]
        }
      ],
      "source": [
        "val_ds = tf.keras.utils.image_dataset_from_directory(\n",
        "  '/content/drive/MyDrive/Training/Training',\n",
        "  validation_split=0.2,\n",
        "  subset=\"validation\",\n",
        "  seed=123,\n",
        "  image_size=(img_height, img_width),\n",
        "  batch_size=batch_size)"
      ]
    },
    {
      "cell_type": "code",
      "execution_count": null,
      "metadata": {
        "colab": {
          "base_uri": "https://localhost:8080/"
        },
        "id": "MeWYw6rhOvOw",
        "outputId": "046c1970-c820-4271-dfc4-b590a7a6475d"
      },
      "outputs": [
        {
          "output_type": "stream",
          "name": "stdout",
          "text": [
            "['Angry', 'Fear', 'Happy', 'Neutral', 'Sad', 'Suprise']\n"
          ]
        }
      ],
      "source": [
        "class_names = train_ds.class_names\n",
        "print(class_names)"
      ]
    },
    {
      "cell_type": "code",
      "execution_count": null,
      "metadata": {
        "colab": {
          "base_uri": "https://localhost:8080/"
        },
        "id": "_C77RmxHS1PF",
        "outputId": "e43eca6b-339a-41b9-a3cc-9cd0df68b248"
      },
      "outputs": [
        {
          "output_type": "stream",
          "name": "stdout",
          "text": [
            "(32, 48, 48, 3)\n",
            "(32,)\n"
          ]
        }
      ],
      "source": [
        "for image_batch, labels_batch in train_ds:\n",
        "  print(image_batch.shape)\n",
        "  print(labels_batch.shape)\n",
        "  break"
      ]
    },
    {
      "cell_type": "markdown",
      "metadata": {
        "id": "zaQ5S6WqUzEM"
      },
      "source": [
        "CONFIGURING THE DATASET FOR PERFORMANCE "
      ]
    },
    {
      "cell_type": "code",
      "execution_count": null,
      "metadata": {
        "id": "TiLjhi0OS00R"
      },
      "outputs": [],
      "source": [
        "AUTOTUNE = tf.data.AUTOTUNE\n",
        "\n",
        "train_ds = train_ds.cache().shuffle(1000).prefetch(buffer_size=AUTOTUNE)\n",
        "val_ds = val_ds.cache().prefetch(buffer_size=AUTOTUNE)"
      ]
    },
    {
      "cell_type": "markdown",
      "metadata": {
        "id": "WgUi3xdjU6Hr"
      },
      "source": [
        "STANDARDIZING THE STUDENT"
      ]
    },
    {
      "cell_type": "code",
      "execution_count": null,
      "metadata": {
        "id": "ks2J7qc6SzZo"
      },
      "outputs": [],
      "source": [
        "normalization_layer = layers.Rescaling(1./255)"
      ]
    },
    {
      "cell_type": "code",
      "execution_count": null,
      "metadata": {
        "id": "rjFOzsD2SzAf",
        "colab": {
          "base_uri": "https://localhost:8080/"
        },
        "outputId": "88476519-72f4-4bbf-bf6d-8ba471d82c8d"
      },
      "outputs": [
        {
          "output_type": "stream",
          "name": "stdout",
          "text": [
            "0.003921569 1.0\n"
          ]
        }
      ],
      "source": [
        "normalized_ds = train_ds.map(lambda x, y: (normalization_layer(x), y))\n",
        "image_batch, labels_batch = next(iter(normalized_ds))\n",
        "first_image = image_batch[0]\n",
        "# Notice the pixel values are now in `[0,1]`.\n",
        "print(np.min(first_image), np.max(first_image))"
      ]
    },
    {
      "cell_type": "markdown",
      "metadata": {
        "id": "I1NCJlppVXwr"
      },
      "source": [
        "CFEATING KERAS MODEL"
      ]
    },
    {
      "cell_type": "code",
      "execution_count": null,
      "metadata": {
        "id": "aMYlQP8nSytf"
      },
      "outputs": [],
      "source": [
        "num_classes = len(class_names)\n",
        "\n",
        "model = Sequential([\n",
        "  layers.Rescaling(1./255, input_shape=(img_height, img_width, 3)),\n",
        "  layers.Conv2D(16, 3, padding='same', activation='relu'),\n",
        "  layers.MaxPooling2D(),\n",
        "  layers.Conv2D(32, 3, padding='same', activation='relu'),\n",
        "  layers.MaxPooling2D(),\n",
        "  layers.Conv2D(64, 3, padding='same', activation='relu'),\n",
        "  layers.MaxPooling2D(),\n",
        "  layers.Flatten(),\n",
        "  layers.Dense(128, activation='relu'),\n",
        "  layers.Dense(num_classes)\n",
        "])"
      ]
    },
    {
      "cell_type": "markdown",
      "metadata": {
        "id": "0ai9n7nZVtqv"
      },
      "source": [
        "COMPILING THE MODEL"
      ]
    },
    {
      "cell_type": "code",
      "execution_count": null,
      "metadata": {
        "id": "Try9FCx2SyeD"
      },
      "outputs": [],
      "source": [
        "model.compile(optimizer='adam',\n",
        "              loss=tf.keras.losses.SparseCategoricalCrossentropy(from_logits=True),\n",
        "              metrics=['accuracy'])"
      ]
    },
    {
      "cell_type": "markdown",
      "metadata": {
        "id": "vuqxtyKPV34D"
      },
      "source": [
        "MODEL SUMMARY"
      ]
    },
    {
      "cell_type": "code",
      "execution_count": null,
      "metadata": {
        "id": "Eg7zxmSlVeB4",
        "colab": {
          "base_uri": "https://localhost:8080/"
        },
        "outputId": "bf940fb6-2f8a-4940-cab0-f267a73e2616"
      },
      "outputs": [
        {
          "output_type": "stream",
          "name": "stdout",
          "text": [
            "Model: \"sequential\"\n",
            "_________________________________________________________________\n",
            " Layer (type)                Output Shape              Param #   \n",
            "=================================================================\n",
            " rescaling_1 (Rescaling)     (None, 48, 48, 3)         0         \n",
            "                                                                 \n",
            " conv2d (Conv2D)             (None, 48, 48, 16)        448       \n",
            "                                                                 \n",
            " max_pooling2d (MaxPooling2D  (None, 24, 24, 16)       0         \n",
            " )                                                               \n",
            "                                                                 \n",
            " conv2d_1 (Conv2D)           (None, 24, 24, 32)        4640      \n",
            "                                                                 \n",
            " max_pooling2d_1 (MaxPooling  (None, 12, 12, 32)       0         \n",
            " 2D)                                                             \n",
            "                                                                 \n",
            " conv2d_2 (Conv2D)           (None, 12, 12, 64)        18496     \n",
            "                                                                 \n",
            " max_pooling2d_2 (MaxPooling  (None, 6, 6, 64)         0         \n",
            " 2D)                                                             \n",
            "                                                                 \n",
            " flatten (Flatten)           (None, 2304)              0         \n",
            "                                                                 \n",
            " dense (Dense)               (None, 128)               295040    \n",
            "                                                                 \n",
            " dense_1 (Dense)             (None, 6)                 774       \n",
            "                                                                 \n",
            "=================================================================\n",
            "Total params: 319,398\n",
            "Trainable params: 319,398\n",
            "Non-trainable params: 0\n",
            "_________________________________________________________________\n"
          ]
        }
      ],
      "source": [
        "model.summary()"
      ]
    },
    {
      "cell_type": "code",
      "execution_count": null,
      "metadata": {
        "id": "zE6zP0wnVd8W"
      },
      "outputs": [],
      "source": []
    },
    {
      "cell_type": "markdown",
      "metadata": {
        "id": "qTmicoQGWPu6"
      },
      "source": [
        "TRAINING THE MODEL"
      ]
    },
    {
      "cell_type": "code",
      "execution_count": null,
      "metadata": {
        "colab": {
          "base_uri": "https://localhost:8080/"
        },
        "id": "t3dFxbXzVd1U",
        "outputId": "ad5e4e53-4ba8-4091-d359-fadfeebb946c"
      },
      "outputs": [
        {
          "output_type": "stream",
          "name": "stdout",
          "text": [
            "Epoch 1/45\n",
            "440/440 [==============================] - 50s 111ms/step - loss: 1.1816 - accuracy: 0.4644 - val_loss: 1.0492 - val_accuracy: 0.5498\n",
            "Epoch 2/45\n",
            "440/440 [==============================] - 39s 88ms/step - loss: 0.9683 - accuracy: 0.5947 - val_loss: 0.9336 - val_accuracy: 0.5939\n",
            "Epoch 3/45\n",
            "440/440 [==============================] - 43s 98ms/step - loss: 0.8455 - accuracy: 0.6497 - val_loss: 0.8546 - val_accuracy: 0.6271\n",
            "Epoch 4/45\n",
            "440/440 [==============================] - 41s 93ms/step - loss: 0.7698 - accuracy: 0.6779 - val_loss: 0.8270 - val_accuracy: 0.6442\n",
            "Epoch 5/45\n",
            "440/440 [==============================] - 41s 93ms/step - loss: 0.7020 - accuracy: 0.7127 - val_loss: 0.8380 - val_accuracy: 0.6419\n",
            "Epoch 6/45\n",
            "440/440 [==============================] - 41s 93ms/step - loss: 0.6358 - accuracy: 0.7435 - val_loss: 0.8173 - val_accuracy: 0.6633\n",
            "Epoch 7/45\n",
            "440/440 [==============================] - 39s 88ms/step - loss: 0.5643 - accuracy: 0.7768 - val_loss: 0.8387 - val_accuracy: 0.6681\n",
            "Epoch 8/45\n",
            "440/440 [==============================] - 41s 93ms/step - loss: 0.4916 - accuracy: 0.8094 - val_loss: 0.9298 - val_accuracy: 0.6439\n",
            "Epoch 9/45\n",
            "440/440 [==============================] - 39s 89ms/step - loss: 0.4172 - accuracy: 0.8395 - val_loss: 0.9421 - val_accuracy: 0.6527\n",
            "Epoch 10/45\n",
            "440/440 [==============================] - 42s 96ms/step - loss: 0.3361 - accuracy: 0.8704 - val_loss: 1.0308 - val_accuracy: 0.6581\n",
            "Epoch 11/45\n",
            "440/440 [==============================] - 41s 93ms/step - loss: 0.2617 - accuracy: 0.9007 - val_loss: 1.1073 - val_accuracy: 0.6618\n",
            "Epoch 12/45\n",
            "440/440 [==============================] - 39s 89ms/step - loss: 0.2007 - accuracy: 0.9269 - val_loss: 1.3717 - val_accuracy: 0.6496\n",
            "Epoch 13/45\n",
            "440/440 [==============================] - 41s 93ms/step - loss: 0.1479 - accuracy: 0.9468 - val_loss: 1.5543 - val_accuracy: 0.6567\n",
            "Epoch 14/45\n",
            "440/440 [==============================] - 41s 94ms/step - loss: 0.1147 - accuracy: 0.9589 - val_loss: 1.6798 - val_accuracy: 0.6516\n",
            "Epoch 15/45\n",
            "440/440 [==============================] - 43s 99ms/step - loss: 0.0947 - accuracy: 0.9680 - val_loss: 1.7539 - val_accuracy: 0.6348\n",
            "Epoch 16/45\n",
            "440/440 [==============================] - 42s 95ms/step - loss: 0.0830 - accuracy: 0.9717 - val_loss: 1.8581 - val_accuracy: 0.6539\n",
            "Epoch 17/45\n",
            "440/440 [==============================] - 41s 93ms/step - loss: 0.0612 - accuracy: 0.9802 - val_loss: 1.9259 - val_accuracy: 0.6539\n",
            "Epoch 18/45\n",
            "440/440 [==============================] - 41s 92ms/step - loss: 0.0679 - accuracy: 0.9774 - val_loss: 1.8620 - val_accuracy: 0.6578\n",
            "Epoch 19/45\n",
            "440/440 [==============================] - 42s 95ms/step - loss: 0.0676 - accuracy: 0.9767 - val_loss: 2.0915 - val_accuracy: 0.6652\n",
            "Epoch 20/45\n",
            "440/440 [==============================] - 42s 96ms/step - loss: 0.0458 - accuracy: 0.9849 - val_loss: 2.5305 - val_accuracy: 0.6539\n",
            "Epoch 21/45\n",
            "440/440 [==============================] - 44s 99ms/step - loss: 0.0633 - accuracy: 0.9782 - val_loss: 2.2214 - val_accuracy: 0.6485\n",
            "Epoch 22/45\n",
            "440/440 [==============================] - 40s 91ms/step - loss: 0.0570 - accuracy: 0.9814 - val_loss: 2.3885 - val_accuracy: 0.6590\n",
            "Epoch 23/45\n",
            "440/440 [==============================] - 42s 95ms/step - loss: 0.0462 - accuracy: 0.9854 - val_loss: 2.4635 - val_accuracy: 0.6542\n",
            "Epoch 24/45\n",
            "440/440 [==============================] - 42s 95ms/step - loss: 0.0495 - accuracy: 0.9824 - val_loss: 2.3621 - val_accuracy: 0.6468\n",
            "Epoch 25/45\n",
            "440/440 [==============================] - 41s 94ms/step - loss: 0.0328 - accuracy: 0.9886 - val_loss: 2.8569 - val_accuracy: 0.6465\n",
            "Epoch 26/45\n",
            "440/440 [==============================] - 41s 94ms/step - loss: 0.0447 - accuracy: 0.9845 - val_loss: 2.8670 - val_accuracy: 0.6391\n",
            "Epoch 27/45\n",
            "440/440 [==============================] - 43s 98ms/step - loss: 0.0642 - accuracy: 0.9779 - val_loss: 2.5450 - val_accuracy: 0.6516\n",
            "Epoch 28/45\n",
            "440/440 [==============================] - 42s 96ms/step - loss: 0.0522 - accuracy: 0.9827 - val_loss: 2.5492 - val_accuracy: 0.6618\n",
            "Epoch 29/45\n",
            "440/440 [==============================] - 40s 92ms/step - loss: 0.0335 - accuracy: 0.9898 - val_loss: 2.9239 - val_accuracy: 0.6416\n",
            "Epoch 30/45\n",
            "440/440 [==============================] - 42s 95ms/step - loss: 0.0429 - accuracy: 0.9859 - val_loss: 2.8141 - val_accuracy: 0.6379\n",
            "Epoch 31/45\n",
            "440/440 [==============================] - 42s 95ms/step - loss: 0.0381 - accuracy: 0.9869 - val_loss: 2.7805 - val_accuracy: 0.6561\n",
            "Epoch 32/45\n",
            "440/440 [==============================] - 43s 98ms/step - loss: 0.0180 - accuracy: 0.9939 - val_loss: 2.9834 - val_accuracy: 0.6465\n",
            "Epoch 33/45\n",
            "440/440 [==============================] - 42s 95ms/step - loss: 0.0569 - accuracy: 0.9815 - val_loss: 2.7285 - val_accuracy: 0.6465\n",
            "Epoch 34/45\n",
            "440/440 [==============================] - 40s 91ms/step - loss: 0.0267 - accuracy: 0.9912 - val_loss: 2.8486 - val_accuracy: 0.6513\n",
            "Epoch 35/45\n",
            "440/440 [==============================] - 41s 94ms/step - loss: 0.0359 - accuracy: 0.9879 - val_loss: 2.9950 - val_accuracy: 0.6499\n",
            "Epoch 36/45\n",
            "440/440 [==============================] - 40s 91ms/step - loss: 0.0390 - accuracy: 0.9861 - val_loss: 3.0598 - val_accuracy: 0.6490\n",
            "Epoch 37/45\n",
            "440/440 [==============================] - 43s 98ms/step - loss: 0.0464 - accuracy: 0.9851 - val_loss: 2.8795 - val_accuracy: 0.6362\n",
            "Epoch 38/45\n",
            "440/440 [==============================] - 42s 96ms/step - loss: 0.0236 - accuracy: 0.9926 - val_loss: 3.1746 - val_accuracy: 0.6513\n",
            "Epoch 39/45\n",
            "440/440 [==============================] - 42s 94ms/step - loss: 0.0381 - accuracy: 0.9873 - val_loss: 3.0008 - val_accuracy: 0.6402\n",
            "Epoch 40/45\n",
            "440/440 [==============================] - 41s 94ms/step - loss: 0.0323 - accuracy: 0.9905 - val_loss: 3.2333 - val_accuracy: 0.6416\n",
            "Epoch 41/45\n",
            "440/440 [==============================] - 43s 96ms/step - loss: 0.0293 - accuracy: 0.9902 - val_loss: 3.1514 - val_accuracy: 0.6539\n",
            "Epoch 42/45\n",
            "440/440 [==============================] - 40s 91ms/step - loss: 0.0168 - accuracy: 0.9954 - val_loss: 3.2520 - val_accuracy: 0.6641\n",
            "Epoch 43/45\n",
            "440/440 [==============================] - 43s 99ms/step - loss: 0.0417 - accuracy: 0.9861 - val_loss: 3.0976 - val_accuracy: 0.6465\n",
            "Epoch 44/45\n",
            "440/440 [==============================] - 42s 96ms/step - loss: 0.0409 - accuracy: 0.9867 - val_loss: 3.3937 - val_accuracy: 0.6394\n",
            "Epoch 45/45\n",
            "440/440 [==============================] - 42s 95ms/step - loss: 0.0237 - accuracy: 0.9917 - val_loss: 3.6171 - val_accuracy: 0.6462\n"
          ]
        }
      ],
      "source": [
        "epochs=45\n",
        "history = model.fit(\n",
        "  train_ds,\n",
        "  validation_data=val_ds,\n",
        "  epochs=epochs\n",
        ")"
      ]
    },
    {
      "cell_type": "code",
      "execution_count": null,
      "metadata": {
        "colab": {
          "background_save": true
        },
        "id": "VlxiOuyrVdsq"
      },
      "outputs": [],
      "source": []
    },
    {
      "cell_type": "markdown",
      "metadata": {
        "id": "QB4HXAAOYG9s"
      },
      "source": [
        "VISUALIZING TRAINING RESULTS"
      ]
    },
    {
      "cell_type": "code",
      "execution_count": null,
      "metadata": {
        "colab": {
          "base_uri": "https://localhost:8080/",
          "height": 458
        },
        "id": "CUb9FFFYVdkD",
        "outputId": "28701349-34e2-4f6d-98c7-93938f9a8b26"
      },
      "outputs": [
        {
          "output_type": "display_data",
          "data": {
            "text/plain": [
              "<Figure size 864x504 with 2 Axes>"
            ],
            "image/png": "[encoded data removed]"
          },
          "metadata": {
            "needs_background": "light"
          }
        }
      ],
      "source": [
        "acc = history.history['accuracy']\n",
        "val_acc = history.history['val_accuracy']\n",
        "\n",
        "loss = history.history['loss']\n",
        "val_loss = history.history['val_loss']\n",
        "\n",
        "epochs_range = range(epochs)\n",
        "\n",
        "plt.figure(figsize=(12, 7))\n",
        "plt.subplot(1, 2, 1)\n",
        "plt.plot(epochs_range, acc, label='Training Accuracy')\n",
        "plt.plot(epochs_range, val_acc, label='Validation Accuracy')\n",
        "plt.legend(loc='lower right')\n",
        "plt.title('Training and Validation Accuracy')\n",
        "\n",
        "plt.ylabel('accuracy')\n",
        "plt.xlabel('epochs')\n",
        "#plt.legend(['train', 'val'], loc='upper left')\n",
        "#plt.show()\n",
        "\n",
        "plt.subplot(1, 2, 2)\n",
        "plt.plot(epochs_range, loss, label='Training Loss')\n",
        "plt.plot(epochs_range, val_loss, label='Validation Loss')\n",
        "plt.legend(loc='upper right')\n",
        "plt.title('Training and Validation Loss')\n",
        "plt.show()\n",
        "\n",
        "#import keras\n",
        "#from matplotlib import pyplot as plt\n",
        "#history = model1.fit(train_x, train_y,validation_split = 0.1, epochs=50, batch_size=4)\n",
        "#plt.plot(history.history['acc'])\n",
        "#plt.plot(history.history['val_acc'])\n",
        "#plt.title('model accuracy')\n",
        "#plt.ylabel('accuracy')\n",
        "#plt.xlabel('epoch')\n",
        "#plt.legend(['train', 'val'], loc='upper left')\n",
        "#plt.show()"
      ]
    },
    {
      "cell_type": "code",
      "execution_count": null,
      "metadata": {
        "colab": {
          "background_save": true
        },
        "id": "x3j-w4-8VdcN"
      },
      "outputs": [],
      "source": []
    },
    {
      "cell_type": "markdown",
      "metadata": {
        "id": "FNJlvB_mYn0H"
      },
      "source": [
        "AUGUMENTING DATA FOR OVERFITTING"
      ]
    },
    {
      "cell_type": "code",
      "execution_count": null,
      "metadata": {
        "id": "n1-WmaQEVdUi"
      },
      "outputs": [],
      "source": [
        "data_augmentation = keras.Sequential(\n",
        "  [\n",
        "    layers.RandomFlip(\"horizontal\",\n",
        "                      input_shape=(img_height,\n",
        "                                  img_width,\n",
        "                                  3)),\n",
        "    layers.RandomRotation(0.1),\n",
        "    layers.RandomZoom(0.1),\n",
        "  ]\n",
        ")"
      ]
    },
    {
      "cell_type": "markdown",
      "metadata": {
        "id": "AyYYWLThZBXt"
      },
      "source": [
        "VISUALIZING THE AUGUMENTED IMAGE"
      ]
    },
    {
      "cell_type": "code",
      "execution_count": null,
      "metadata": {
        "colab": {
          "base_uri": "https://localhost:8080/",
          "height": 575
        },
        "id": "tuBD4gNgVdKD",
        "outputId": "21a65ae4-8f64-41b1-cd4c-c350dcc0aaf9"
      },
      "outputs": [
        {
          "output_type": "display_data",
          "data": {
            "text/plain": [
              "<Figure size 720x720 with 9 Axes>"
            ],
            "image/png": "[encoded data removed]"
          },
          "metadata": {
            "needs_background": "light"
          }
        }
      ],
      "source": [
        "plt.figure(figsize=(10, 10))\n",
        "for images, _ in train_ds.take(1):\n",
        "  for i in range(9):\n",
        "    augmented_images = data_augmentation(images)\n",
        "    ax = plt.subplot(3, 3, i + 1)\n",
        "    plt.imshow(augmented_images[0].numpy().astype(\"uint8\"))\n",
        "    plt.axis(\"off\")"
      ]
    },
    {
      "cell_type": "code",
      "execution_count": null,
      "metadata": {
        "colab": {
          "background_save": true
        },
        "id": "8r5mmUTOVc8r"
      },
      "outputs": [],
      "source": []
    },
    {
      "cell_type": "markdown",
      "metadata": {
        "id": "zcTE08RfZfad"
      },
      "source": [
        "ADDING THE AUGUMENTED DATA TO THE MODEL BEFORE RETRAINING IT"
      ]
    },
    {
      "cell_type": "code",
      "execution_count": null,
      "metadata": {
        "id": "kKbyj-4DWlrY"
      },
      "outputs": [],
      "source": [
        "model = Sequential([\n",
        "  data_augmentation,\n",
        "  layers.Rescaling(1./255),\n",
        "  layers.Conv2D(16, 3, padding='same', activation='relu'),\n",
        "  layers.MaxPooling2D(),\n",
        "  layers.Conv2D(32, 3, padding='same', activation='relu'),\n",
        "  layers.MaxPooling2D(),\n",
        "  layers.Conv2D(64, 3, padding='same', activation='relu'),\n",
        "  layers.MaxPooling2D(),\n",
        "  layers.Dropout(0.2),\n",
        "  layers.Flatten(),\n",
        "  layers.Dense(128, activation='relu'),\n",
        "  layers.Dense(num_classes, name=\"outputs\")\n",
        "])"
      ]
    },
    {
      "cell_type": "markdown",
      "metadata": {
        "id": "L5YQ9AKdZ5Tc"
      },
      "source": [
        "COMPILING AND RETRAINING THE MODEL"
      ]
    },
    {
      "cell_type": "code",
      "execution_count": null,
      "metadata": {
        "id": "0lhvTK0VWliB"
      },
      "outputs": [],
      "source": [
        "model.compile(optimizer='adam',\n",
        "              loss=tf.keras.losses.SparseCategoricalCrossentropy(from_logits=True),\n",
        "              metrics=['accuracy'])"
      ]
    },
    {
      "cell_type": "code",
      "execution_count": null,
      "metadata": {
        "colab": {
          "base_uri": "https://localhost:8080/"
        },
        "id": "Vtce9AltWlVA",
        "outputId": "dba6b9d1-b293-405a-82b2-1ca016d06e20"
      },
      "outputs": [
        {
          "output_type": "stream",
          "name": "stdout",
          "text": [
            "Model: \"sequential_2\"\n",
            "_________________________________________________________________\n",
            " Layer (type)                Output Shape              Param #   \n",
            "=================================================================\n",
            " sequential_1 (Sequential)   (None, 48, 48, 3)         0         \n",
            "                                                                 \n",
            " rescaling_2 (Rescaling)     (None, 48, 48, 3)         0         \n",
            "                                                                 \n",
            " conv2d_3 (Conv2D)           (None, 48, 48, 16)        448       \n",
            "                                                                 \n",
            " max_pooling2d_3 (MaxPooling  (None, 24, 24, 16)       0         \n",
            " 2D)                                                             \n",
            "                                                                 \n",
            " conv2d_4 (Conv2D)           (None, 24, 24, 32)        4640      \n",
            "                                                                 \n",
            " max_pooling2d_4 (MaxPooling  (None, 12, 12, 32)       0         \n",
            " 2D)                                                             \n",
            "                                                                 \n",
            " conv2d_5 (Conv2D)           (None, 12, 12, 64)        18496     \n",
            "                                                                 \n",
            " max_pooling2d_5 (MaxPooling  (None, 6, 6, 64)         0         \n",
            " 2D)                                                             \n",
            "                                                                 \n",
            " dropout (Dropout)           (None, 6, 6, 64)          0         \n",
            "                                                                 \n",
            " flatten_1 (Flatten)         (None, 2304)              0         \n",
            "                                                                 \n",
            " dense_2 (Dense)             (None, 128)               295040    \n",
            "                                                                 \n",
            " outputs (Dense)             (None, 6)                 774       \n",
            "                                                                 \n",
            "=================================================================\n",
            "Total params: 319,398\n",
            "Trainable params: 319,398\n",
            "Non-trainable params: 0\n",
            "_________________________________________________________________\n"
          ]
        }
      ],
      "source": [
        "model.summary()"
      ]
    },
    {
      "cell_type": "code",
      "execution_count": null,
      "metadata": {
        "colab": {
          "base_uri": "https://localhost:8080/"
        },
        "id": "-atE7fXQWlNh",
        "outputId": "e5689d95-28dc-4de7-ca88-7b338eb3ce96"
      },
      "outputs": [
        {
          "output_type": "stream",
          "name": "stdout",
          "text": [
            "Epoch 1/50\n",
            "440/440 [==============================] - 50s 111ms/step - loss: 1.3225 - accuracy: 0.3492 - val_loss: 1.2118 - val_accuracy: 0.4454\n",
            "Epoch 2/50\n",
            "440/440 [==============================] - 46s 106ms/step - loss: 1.2103 - accuracy: 0.4462 - val_loss: 1.1161 - val_accuracy: 0.5151\n",
            "Epoch 3/50\n",
            "440/440 [==============================] - 58s 131ms/step - loss: 1.1149 - accuracy: 0.5051 - val_loss: 1.0552 - val_accuracy: 0.5404\n",
            "Epoch 4/50\n",
            "440/440 [==============================] - 50s 114ms/step - loss: 1.0569 - accuracy: 0.5395 - val_loss: 0.9891 - val_accuracy: 0.5722\n",
            "Epoch 5/50\n",
            "440/440 [==============================] - 45s 102ms/step - loss: 1.0069 - accuracy: 0.5604 - val_loss: 0.9249 - val_accuracy: 0.6084\n",
            "Epoch 6/50\n",
            "440/440 [==============================] - 63s 144ms/step - loss: 0.9736 - accuracy: 0.5759 - val_loss: 0.9048 - val_accuracy: 0.6186\n",
            "Epoch 7/50\n",
            "440/440 [==============================] - 66s 150ms/step - loss: 0.9394 - accuracy: 0.5985 - val_loss: 0.8882 - val_accuracy: 0.6254\n",
            "Epoch 8/50\n",
            "440/440 [==============================] - 49s 111ms/step - loss: 0.9120 - accuracy: 0.6099 - val_loss: 0.8701 - val_accuracy: 0.6180\n",
            "Epoch 9/50\n",
            "440/440 [==============================] - 47s 106ms/step - loss: 0.8923 - accuracy: 0.6245 - val_loss: 0.8578 - val_accuracy: 0.6277\n",
            "Epoch 10/50\n",
            "440/440 [==============================] - 48s 109ms/step - loss: 0.8752 - accuracy: 0.6293 - val_loss: 0.8358 - val_accuracy: 0.6510\n",
            "Epoch 11/50\n",
            "440/440 [==============================] - 48s 109ms/step - loss: 0.8596 - accuracy: 0.6298 - val_loss: 0.8210 - val_accuracy: 0.6590\n",
            "Epoch 12/50\n",
            "440/440 [==============================] - 48s 109ms/step - loss: 0.8526 - accuracy: 0.6384 - val_loss: 0.8285 - val_accuracy: 0.6650\n",
            "Epoch 13/50\n",
            "440/440 [==============================] - 45s 103ms/step - loss: 0.8383 - accuracy: 0.6436 - val_loss: 0.7987 - val_accuracy: 0.6695\n",
            "Epoch 14/50\n",
            "440/440 [==============================] - 49s 111ms/step - loss: 0.8265 - accuracy: 0.6564 - val_loss: 0.8531 - val_accuracy: 0.6394\n",
            "Epoch 15/50\n",
            "440/440 [==============================] - 45s 102ms/step - loss: 0.8212 - accuracy: 0.6554 - val_loss: 0.7950 - val_accuracy: 0.6652\n",
            "Epoch 16/50\n",
            "440/440 [==============================] - 45s 102ms/step - loss: 0.8131 - accuracy: 0.6604 - val_loss: 0.7861 - val_accuracy: 0.6721\n",
            "Epoch 17/50\n",
            "440/440 [==============================] - 47s 107ms/step - loss: 0.8016 - accuracy: 0.6620 - val_loss: 0.7858 - val_accuracy: 0.6766\n",
            "Epoch 18/50\n",
            "440/440 [==============================] - 47s 106ms/step - loss: 0.7895 - accuracy: 0.6713 - val_loss: 0.7690 - val_accuracy: 0.6849\n",
            "Epoch 19/50\n",
            "440/440 [==============================] - 45s 103ms/step - loss: 0.7803 - accuracy: 0.6772 - val_loss: 0.7609 - val_accuracy: 0.6726\n",
            "Epoch 20/50\n",
            "440/440 [==============================] - 49s 112ms/step - loss: 0.7757 - accuracy: 0.6741 - val_loss: 0.7883 - val_accuracy: 0.6786\n",
            "Epoch 21/50\n",
            "440/440 [==============================] - 45s 103ms/step - loss: 0.7716 - accuracy: 0.6791 - val_loss: 0.7532 - val_accuracy: 0.6900\n",
            "Epoch 22/50\n",
            "440/440 [==============================] - 47s 107ms/step - loss: 0.7618 - accuracy: 0.6805 - val_loss: 0.7842 - val_accuracy: 0.6689\n",
            "Epoch 23/50\n",
            "440/440 [==============================] - 46s 104ms/step - loss: 0.7580 - accuracy: 0.6871 - val_loss: 0.7818 - val_accuracy: 0.6724\n",
            "Epoch 24/50\n",
            "440/440 [==============================] - 46s 104ms/step - loss: 0.7484 - accuracy: 0.6932 - val_loss: 0.7639 - val_accuracy: 0.6766\n",
            "Epoch 25/50\n",
            "440/440 [==============================] - 50s 113ms/step - loss: 0.7553 - accuracy: 0.6866 - val_loss: 0.7472 - val_accuracy: 0.6874\n",
            "Epoch 26/50\n",
            "440/440 [==============================] - 48s 109ms/step - loss: 0.7366 - accuracy: 0.6974 - val_loss: 0.7392 - val_accuracy: 0.6871\n",
            "Epoch 27/50\n",
            "440/440 [==============================] - 50s 112ms/step - loss: 0.7374 - accuracy: 0.6944 - val_loss: 0.7616 - val_accuracy: 0.6877\n",
            "Epoch 28/50\n",
            "440/440 [==============================] - 48s 109ms/step - loss: 0.7360 - accuracy: 0.6957 - val_loss: 0.7487 - val_accuracy: 0.6897\n",
            "Epoch 29/50\n",
            "440/440 [==============================] - 48s 109ms/step - loss: 0.7289 - accuracy: 0.6977 - val_loss: 0.7437 - val_accuracy: 0.6914\n",
            "Epoch 30/50\n",
            "440/440 [==============================] - 48s 109ms/step - loss: 0.7241 - accuracy: 0.6989 - val_loss: 0.7631 - val_accuracy: 0.6869\n",
            "Epoch 31/50\n",
            "440/440 [==============================] - 48s 109ms/step - loss: 0.7078 - accuracy: 0.7068 - val_loss: 0.7701 - val_accuracy: 0.6766\n",
            "Epoch 32/50\n",
            "440/440 [==============================] - 48s 110ms/step - loss: 0.7101 - accuracy: 0.7093 - val_loss: 0.7303 - val_accuracy: 0.6960\n",
            "Epoch 33/50\n",
            "440/440 [==============================] - 48s 109ms/step - loss: 0.7074 - accuracy: 0.7100 - val_loss: 0.7336 - val_accuracy: 0.6931\n",
            "Epoch 34/50\n",
            "440/440 [==============================] - 48s 109ms/step - loss: 0.7122 - accuracy: 0.7044 - val_loss: 0.7389 - val_accuracy: 0.6914\n",
            "Epoch 35/50\n",
            "440/440 [==============================] - 50s 114ms/step - loss: 0.7046 - accuracy: 0.7071 - val_loss: 0.7510 - val_accuracy: 0.6866\n",
            "Epoch 36/50\n",
            "440/440 [==============================] - 46s 105ms/step - loss: 0.6985 - accuracy: 0.7125 - val_loss: 0.7254 - val_accuracy: 0.6843\n",
            "Epoch 37/50\n",
            "440/440 [==============================] - 48s 109ms/step - loss: 0.6953 - accuracy: 0.7147 - val_loss: 0.7578 - val_accuracy: 0.6849\n",
            "Epoch 38/50\n",
            "440/440 [==============================] - 48s 109ms/step - loss: 0.6911 - accuracy: 0.7175 - val_loss: 0.7516 - val_accuracy: 0.6849\n",
            "Epoch 39/50\n",
            "440/440 [==============================] - 48s 109ms/step - loss: 0.6857 - accuracy: 0.7157 - val_loss: 0.7387 - val_accuracy: 0.6880\n",
            "Epoch 40/50\n",
            "440/440 [==============================] - 47s 106ms/step - loss: 0.6812 - accuracy: 0.7172 - val_loss: 0.7265 - val_accuracy: 0.6980\n",
            "Epoch 41/50\n",
            "440/440 [==============================] - 46s 105ms/step - loss: 0.6716 - accuracy: 0.7262 - val_loss: 0.7399 - val_accuracy: 0.6917\n",
            "Epoch 42/50\n",
            "440/440 [==============================] - 48s 109ms/step - loss: 0.6776 - accuracy: 0.7230 - val_loss: 0.7113 - val_accuracy: 0.6928\n",
            "Epoch 43/50\n",
            "440/440 [==============================] - 45s 102ms/step - loss: 0.6702 - accuracy: 0.7271 - val_loss: 0.7123 - val_accuracy: 0.7025\n",
            "Epoch 44/50\n",
            "440/440 [==============================] - 45s 103ms/step - loss: 0.6712 - accuracy: 0.7261 - val_loss: 0.7353 - val_accuracy: 0.7014\n",
            "Epoch 45/50\n",
            "440/440 [==============================] - 47s 107ms/step - loss: 0.6674 - accuracy: 0.7282 - val_loss: 0.7433 - val_accuracy: 0.6954\n",
            "Epoch 46/50\n",
            "440/440 [==============================] - 46s 106ms/step - loss: 0.6648 - accuracy: 0.7250 - val_loss: 0.7467 - val_accuracy: 0.6897\n",
            "Epoch 47/50\n",
            "440/440 [==============================] - 48s 109ms/step - loss: 0.6605 - accuracy: 0.7270 - val_loss: 0.7282 - val_accuracy: 0.7051\n",
            "Epoch 48/50\n",
            "440/440 [==============================] - 49s 112ms/step - loss: 0.6560 - accuracy: 0.7307 - val_loss: 0.7131 - val_accuracy: 0.7051\n",
            "Epoch 49/50\n",
            "440/440 [==============================] - 46s 105ms/step - loss: 0.6621 - accuracy: 0.7294 - val_loss: 0.7571 - val_accuracy: 0.6914\n",
            "Epoch 50/50\n",
            "440/440 [==============================] - 48s 109ms/step - loss: 0.6550 - accuracy: 0.7340 - val_loss: 0.7351 - val_accuracy: 0.6994\n"
          ]
        }
      ],
      "source": [
        "epochs = 50\n",
        "history = model.fit(\n",
        "  train_ds,\n",
        "  validation_data=val_ds,\n",
        "  epochs=epochs\n",
        ")"
      ]
    },
    {
      "cell_type": "code",
      "execution_count": null,
      "metadata": {
        "id": "T2qIeqE1WlID"
      },
      "outputs": [],
      "source": []
    },
    {
      "cell_type": "code",
      "execution_count": null,
      "metadata": {
        "id": "ZLQBAhkYWlAf",
        "colab": {
          "base_uri": "https://localhost:8080/",
          "height": 458
        },
        "outputId": "a2d7551a-f91e-4e4e-f638-cd8f2401e1a3"
      },
      "outputs": [
        {
          "output_type": "display_data",
          "data": {
            "text/plain": [
              "<Figure size 864x504 with 2 Axes>"
            ],
            "image/png": "[encoded data removed]"
          },
          "metadata": {
            "needs_background": "light"
          }
        }
      ],
      "source": [
        "acc = history.history['accuracy']\n",
        "val_acc = history.history['val_accuracy']\n",
        "\n",
        "loss = history.history['loss']\n",
        "val_loss = history.history['val_loss']\n",
        "\n",
        "epochs_range = range(epochs)\n",
        "\n",
        "plt.figure(figsize=(12, 7))\n",
        "plt.subplot(1, 2, 1)\n",
        "plt.plot(epochs_range, acc, label='Training Accuracy')\n",
        "plt.plot(epochs_range, val_acc, label='Validation Accuracy')\n",
        "plt.legend(loc='lower right')\n",
        "plt.title('Training and Validation Accuracy')\n",
        "\n",
        "plt.ylabel('accuracy')\n",
        "plt.xlabel('epochs')\n",
        "\n",
        "plt.subplot(1, 2, 2)\n",
        "plt.plot(epochs_range, loss, label='Training Loss')\n",
        "plt.plot(epochs_range, val_loss, label='Validation Loss')\n",
        "plt.legend(loc='upper right')\n",
        "plt.title('Training and Validation Loss')\n",
        "plt.ylabel('accuracy')\n",
        "plt.xlabel('epochs')\n",
        "plt.show()"
      ]
    },
    {
      "cell_type": "code",
      "execution_count": null,
      "metadata": {
        "id": "xWYFqgRBWk5K"
      },
      "outputs": [],
      "source": []
    },
    {
      "cell_type": "markdown",
      "metadata": {
        "id": "K7QCstqDczuO"
      },
      "source": [
        "PREDICTING ON NEW DATA"
      ]
    },
    {
      "cell_type": "code",
      "execution_count": null,
      "metadata": {
        "id": "tKDq-RtDWkxT",
        "colab": {
          "base_uri": "https://localhost:8080/",
          "height": 257
        },
        "outputId": "b2173040-e2df-4360-cd58-8e20ca568180"
      },
      "outputs": [
        {
          "output_type": "display_data",
          "data": {
            "text/plain": [
              "<Figure size 432x288 with 1 Axes>"
            ],
            "image/png": "[encoded data removed]"
          },
          "metadata": {
            "needs_background": "light"
          }
        },
        {
          "output_type": "stream",
          "name": "stdout",
          "text": [
            "This person is most likely Sad with a 33.66 percent confidence.\n"
          ]
        }
      ],
      "source": [
        "data_1 = '/content/Baby.jpeg'\n",
        "data_path = tf.keras.utils.get_file('/content/Baby.jpeg', origin=data_1)\n",
        "\n",
        "img = tf.keras.utils.load_img(\n",
        "    data_path, target_size=(img_height, img_width)\n",
        ")\n",
        "img_array = tf.keras.utils.img_to_array(img)\n",
        "img_array = tf.expand_dims(img_array, 0) # Create a batch\n",
        "\n",
        "predictions = model.predict(img_array)\n",
        "score = tf.nn.softmax(predictions[0])\n",
        "\n",
        "img = cv2.imread('/content/Baby.jpeg')\n",
        "plt.imshow(img)\n",
        "plt.axis(\"off\")\n",
        "plt.show()\n",
        "\n",
        "print(\n",
        "    \"This person is most likely {} with a {:.2f} percent confidence.\"\n",
        "    .format(class_names[np.argmax(score)], 100 * np.max(score))\n",
        ")"
      ]
    },
    {
      "cell_type": "code",
      "execution_count": null,
      "metadata": {
        "id": "2XB--KFVWkp8"
      },
      "outputs": [],
      "source": []
    },
    {
      "cell_type": "markdown",
      "metadata": {
        "id": "HtW4salKGg4d"
      },
      "source": [
        "\n",
        "CONVERT KERAS SEQUENTIAL MODEL TO A TENSORFLOW LITE MODEL\n"
      ]
    },
    {
      "cell_type": "code",
      "execution_count": null,
      "metadata": {
        "id": "GoaVgzewWkdS"
      },
      "outputs": [],
      "source": [
        "# Convert the model.\n",
        "converter = tf.lite.TFLiteConverter.from_keras_model(model)\n",
        "tflite_model = converter.convert()\n",
        "\n",
        "# Save the model.\n",
        "with open('model.tflite', 'wb') as f:\n",
        "  f.write(tflite_model)"
      ]
    },
    {
      "cell_type": "code",
      "execution_count": null,
      "metadata": {
        "id": "ChRO6WKAaXyq"
      },
      "outputs": [],
      "source": [
        "TF_MODEL_FILE_PATH = 'model.tflite' # The default path to the saved TensorFlow Lite model\n",
        "\n",
        "interpreter = tf.lite.Interpreter(model_path=TF_MODEL_FILE_PATH)"
      ]
    },
    {
      "cell_type": "code",
      "execution_count": null,
      "metadata": {
        "id": "lzKCpiRraXoC"
      },
      "outputs": [],
      "source": [
        "interpreter.get_signature_list()"
      ]
    },
    {
      "cell_type": "code",
      "execution_count": null,
      "metadata": {
        "id": "WQji1omFaXeu"
      },
      "outputs": [],
      "source": [
        "classify_lite = interpreter.get_signature_runner('serving_default')\n",
        "classify_lite"
      ]
    },
    {
      "cell_type": "code",
      "execution_count": null,
      "metadata": {
        "id": "j-OHerO9aXUB"
      },
      "outputs": [],
      "source": [
        "predictions_lite = classify_lite(sequential_1_input=img_array)['outputs']\n",
        "score_lite = tf.nn.softmax(predictions_lite)\n",
        "\n",
        "assert np.allclose(predictions, predictions_lite)\n",
        "\n",
        "print(\n",
        "    \"This person is most likely {} with a {:.2f} percent confidence.\"\n",
        "    .format(class_names[np.argmax(score_lite)], 100 * np.max(score_lite))\n",
        ")"
      ]
    },
    {
      "cell_type": "code",
      "execution_count": null,
      "metadata": {
        "id": "4TSarjC-aXJ_"
      },
      "outputs": [],
      "source": []
    },
    {
      "cell_type": "code",
      "execution_count": null,
      "metadata": {
        "id": "3VupniSLaW-Q"
      },
      "outputs": [],
      "source": []
    },
    {
      "cell_type": "code",
      "execution_count": null,
      "metadata": {
        "id": "zoOLLs9XaWyH"
      },
      "outputs": [],
      "source": []
    },
    {
      "cell_type": "code",
      "execution_count": null,
      "metadata": {
        "id": "xp35HlU8aWhc"
      },
      "outputs": [],
      "source": []
    },
    {
      "cell_type": "code",
      "execution_count": null,
      "metadata": {
        "id": "f_dmfc_wWkQ0"
      },
      "outputs": [],
      "source": []
    },
    {
      "cell_type": "code",
      "execution_count": null,
      "metadata": {
        "id": "EelEZzkdIDxd"
      },
      "outputs": [],
      "source": []
    },
    {
      "cell_type": "code",
      "execution_count": null,
      "metadata": {
        "id": "h1ikxV2XIDpp"
      },
      "outputs": [],
      "source": []
    },
    {
      "cell_type": "code",
      "execution_count": null,
      "metadata": {
        "id": "EAk8FpekIDkU"
      },
      "outputs": [],
      "source": []
    },
    {
      "cell_type": "code",
      "execution_count": null,
      "metadata": {
        "id": "sNrZe6oHIDb3"
      },
      "outputs": [],
      "source": []
    },
    {
      "cell_type": "code",
      "execution_count": null,
      "metadata": {
        "id": "kE18GM6IIDTw"
      },
      "outputs": [],
      "source": []
    },
    {
      "cell_type": "code",
      "execution_count": null,
      "metadata": {
        "id": "63sfGNtWIDHl"
      },
      "outputs": [],
      "source": []
    },
    {
      "cell_type": "markdown",
      "metadata": {
        "id": "JUjqX87FQxFG"
      },
      "source": [
        "LOADING DATA"
      ]
    },
    {
      "cell_type": "code",
      "execution_count": null,
      "metadata": {
        "id": "gvbeGdY4QLvB"
      },
      "outputs": [],
      "source": [
        "import numpy as np\n",
        "from matplotlib import pyplot as plt\n",
        "#import PIL\n",
        "#import glob"
      ]
    },
    {
      "cell_type": "code",
      "execution_count": null,
      "metadata": {
        "id": "Dw2Dj0DkQMQy"
      },
      "outputs": [],
      "source": [
        "Testing = tf.keras.utils.image_dataset_from_directory('/content/drive/MyDrive/Testing/Testing')"
      ]
    },
    {
      "cell_type": "code",
      "execution_count": null,
      "metadata": {
        "id": "SXwxNiLgQMfy"
      },
      "outputs": [],
      "source": [
        "Training = tf.keras.utils.image_dataset_from_directory('/content/drive/MyDrive/Training/Training')"
      ]
    },
    {
      "cell_type": "code",
      "execution_count": null,
      "metadata": {
        "id": "-vcJuMoNesCh"
      },
      "outputs": [],
      "source": []
    },
    {
      "cell_type": "code",
      "execution_count": null,
      "metadata": {
        "id": "tI3S8G57esSC"
      },
      "outputs": [],
      "source": []
    },
    {
      "cell_type": "markdown",
      "metadata": {
        "id": "3RwnNGa5kHW9"
      },
      "source": [
        "SCALING DATA - TURNING INTO GRAY SCALE"
      ]
    },
    {
      "cell_type": "code",
      "execution_count": null,
      "metadata": {
        "id": "o1d4Qx-VetFY"
      },
      "outputs": [],
      "source": [
        "#data = data.map(lambda x,y: (x/255, y))\n",
        "#data.as_numpy_iterator().next()"
      ]
    },
    {
      "cell_type": "code",
      "execution_count": null,
      "metadata": {
        "id": "Q8_hLgf6kcxa"
      },
      "outputs": [],
      "source": []
    },
    {
      "cell_type": "markdown",
      "metadata": {
        "id": "WFgx38DAkrpd"
      },
      "source": [
        "SPLITTING DATA"
      ]
    },
    {
      "cell_type": "code",
      "execution_count": null,
      "metadata": {
        "id": "qzr7HFookc_P"
      },
      "outputs": [],
      "source": [
        "#train_size = int(len(data)*.7)\n",
        "#val_size = int(len(data)*.2)\n",
        "#test_size = int(len(data)*.1)\n",
        "\n",
        "#train_size\n"
      ]
    },
    {
      "cell_type": "code",
      "execution_count": null,
      "metadata": {
        "id": "u_25FbXGkdKx"
      },
      "outputs": [],
      "source": [
        "#train = data.take(train_size)\n",
        "#val = data.skip(train_size).take(val_size)\n",
        "#test = data.skip(train_size+val_size).take(test_size)"
      ]
    },
    {
      "cell_type": "markdown",
      "metadata": {
        "id": "vExEjROinZ6x"
      },
      "source": [
        "LOADING DATA USING KERAS UTILITY AND CREATING A DATA SET"
      ]
    },
    {
      "cell_type": "code",
      "execution_count": null,
      "metadata": {
        "id": "I17KVG-SkdWX"
      },
      "outputs": [],
      "source": [
        "batch_size = 32\n",
        "img_height = 48\n",
        "img_width = 48"
      ]
    },
    {
      "cell_type": "code",
      "execution_count": null,
      "metadata": {
        "id": "i2bnsZApn3Xt"
      },
      "outputs": [],
      "source": [
        "  test_ds = tf.keras.utils.image_dataset_from_directory(\n",
        "  data_dir1,\n",
        "  #subset=\"testing\",\n",
        "  image_size=(img_height, img_width),\n",
        "  batch_size=batch_size)"
      ]
    },
    {
      "cell_type": "code",
      "execution_count": null,
      "metadata": {
        "id": "xQhgxVn5rU_O"
      },
      "outputs": [],
      "source": [
        "  #TEST THIS TOO\n",
        "  train_ds = tf.keras.utils.image_dataset_from_directory(\n",
        "  data_dir2,\n",
        "  #subset=\"testing\",\n",
        "  image_size=(img_height, img_width),\n",
        "  batch_size=batch_size)"
      ]
    },
    {
      "cell_type": "code",
      "execution_count": null,
      "metadata": {
        "id": "BXQpwY77n3oA"
      },
      "outputs": [],
      "source": []
    },
    {
      "cell_type": "code",
      "execution_count": null,
      "metadata": {
        "id": "p6mt4Rbmn34r"
      },
      "outputs": [],
      "source": []
    },
    {
      "cell_type": "code",
      "execution_count": null,
      "metadata": {
        "id": "RQ4YNUIzn4QV"
      },
      "outputs": [],
      "source": [
        "#Replace test with train\n",
        "class_names = train_ds.class_names\n",
        "print(class_names)"
      ]
    },
    {
      "cell_type": "code",
      "execution_count": null,
      "metadata": {
        "id": "mzgnY_Ztn4eq"
      },
      "outputs": [],
      "source": []
    },
    {
      "cell_type": "markdown",
      "metadata": {
        "id": "CVNim2YZuIYL"
      },
      "source": [
        "VISUALIZE DATA"
      ]
    },
    {
      "cell_type": "code",
      "execution_count": null,
      "metadata": {
        "id": "EwhvrDPpn4qJ"
      },
      "outputs": [],
      "source": [
        "import matplotlib.pyplot as plt\n",
        "\n",
        "#REPLACE TEST WITH TRAIN\n",
        "plt.figure(figsize=(10, 10))\n",
        "for images, labels in train_ds.take(1):\n",
        "  for i in range(9):\n",
        "    ax = plt.subplot(3, 3, i + 1)\n",
        "    plt.imshow(images[i].numpy().astype(\"uint8\"))\n",
        "    plt.title(class_names[labels[i]])\n",
        "    plt.axis(\"off\")"
      ]
    },
    {
      "cell_type": "code",
      "execution_count": null,
      "metadata": {
        "id": "6XLaxw-2n41a"
      },
      "outputs": [],
      "source": []
    },
    {
      "cell_type": "code",
      "execution_count": null,
      "metadata": {
        "id": "50RqzVkbn472"
      },
      "outputs": [],
      "source": [
        "#CHANGE TEST TO TRAIN\n",
        "for image_batch, labels_batch in train_ds:\n",
        "  print(image_batch.shape)\n",
        "  print(labels_batch.shape)\n",
        "  break"
      ]
    },
    {
      "cell_type": "markdown",
      "metadata": {
        "id": "ti3r3ouz2SVR"
      },
      "source": [
        "CONFIGURE THE DATASET FOR PERFORMANCE"
      ]
    },
    {
      "cell_type": "code",
      "execution_count": null,
      "metadata": {
        "id": "0I0Fgdob1y6l"
      },
      "outputs": [],
      "source": [
        "AUTOTUNE = tf.data.AUTOTUNE\n",
        "\n",
        "train_ds = train_ds.cache().shuffle(1000).prefetch(buffer_size=AUTOTUNE)\n",
        "test_ds = test_ds.cache().prefetch(buffer_size=AUTOTUNE)"
      ]
    },
    {
      "cell_type": "code",
      "execution_count": null,
      "metadata": {
        "id": "3ohW1FFn1zFS"
      },
      "outputs": [],
      "source": [
        "#train_size = int(len(data_dir2)*.8)\n",
        "#val_size = int(len(data)*.2)\n",
        "#test_size = int(len(data_dir1)*.2)"
      ]
    },
    {
      "cell_type": "code",
      "execution_count": null,
      "metadata": {
        "id": "tj8JmZ5U-rH6"
      },
      "outputs": [],
      "source": [
        "#train_size"
      ]
    },
    {
      "cell_type": "code",
      "execution_count": null,
      "metadata": {
        "id": "b0V-ctjx-zzZ"
      },
      "outputs": [],
      "source": [
        "#test_size"
      ]
    },
    {
      "cell_type": "code",
      "execution_count": null,
      "metadata": {
        "id": "oGSw9-IZ_XvE"
      },
      "outputs": [],
      "source": []
    },
    {
      "cell_type": "markdown",
      "metadata": {
        "id": "FRBSiIr8NcRL"
      },
      "source": [
        "STANDARDAZING THE DATA"
      ]
    },
    {
      "cell_type": "code",
      "execution_count": null,
      "metadata": {
        "id": "KucqUEoBDLbO"
      },
      "outputs": [],
      "source": [
        "normalization_layer = layers.Rescaling(1./255)"
      ]
    },
    {
      "cell_type": "code",
      "execution_count": null,
      "metadata": {
        "id": "9ySqj41rDl61"
      },
      "outputs": [],
      "source": [
        "normalized_ds = train_ds.map(lambda x, y: (normalization_layer(x), y))\n",
        "image_batch, labels_batch = next(iter(normalized_ds))\n",
        "first_image = image_batch[0]\n",
        "# Notice the pixel values are now in `[0,1]`.\n",
        "print(np.min(first_image), np.max(first_image))"
      ]
    },
    {
      "cell_type": "code",
      "execution_count": null,
      "metadata": {
        "id": "X-_MX3ncDyTf"
      },
      "outputs": [],
      "source": []
    },
    {
      "cell_type": "code",
      "execution_count": null,
      "metadata": {
        "id": "-xtq_qsw1zOq"
      },
      "outputs": [],
      "source": []
    },
    {
      "cell_type": "code",
      "execution_count": null,
      "metadata": {
        "id": "vmx_9Nr01zYM"
      },
      "outputs": [],
      "source": []
    },
    {
      "cell_type": "markdown",
      "metadata": {
        "id": "dSs8T8ugUozs"
      },
      "source": [
        "CREATING THE MODEL"
      ]
    },
    {
      "cell_type": "code",
      "execution_count": null,
      "metadata": {
        "id": "hvvgxtRq1zgq"
      },
      "outputs": [],
      "source": [
        "from tensorflow.keras.models import Sequential\n",
        "num_classes = len(class_names)\n",
        "\n",
        "model = Sequential([\n",
        "  layers.Rescaling(1./255, input_shape=(img_height, img_width, 3)),\n",
        "  layers.Conv2D(16, 3, padding='same', activation='relu'),\n",
        "  layers.MaxPooling2D(),\n",
        "  layers.Conv2D(32, 3, padding='same', activation='relu'),\n",
        "  layers.MaxPooling2D(),\n",
        "  layers.Conv2D(64, 3, padding='same', activation='relu'),\n",
        "  layers.MaxPooling2D(),\n",
        "  layers.Flatten(),\n",
        "  layers.Dense(128, activation='relu'),\n",
        "  layers.Dense(num_classes)\n",
        "])"
      ]
    },
    {
      "cell_type": "markdown",
      "metadata": {
        "id": "1AUE1DD-U0kM"
      },
      "source": [
        "COMPILING THE MODEL"
      ]
    },
    {
      "cell_type": "code",
      "execution_count": null,
      "metadata": {
        "id": "ndMZREu7Uh9C"
      },
      "outputs": [],
      "source": [
        "model.compile(optimizer='adam',\n",
        "              loss=tf.keras.losses.SparseCategoricalCrossentropy(from_logits=True),\n",
        "              metrics=['accuracy'])"
      ]
    },
    {
      "cell_type": "markdown",
      "metadata": {
        "id": "reiMmtAwVFn1"
      },
      "source": [
        "MODEL SUMMARY"
      ]
    },
    {
      "cell_type": "code",
      "execution_count": null,
      "metadata": {
        "id": "LTdtiQV9UiMJ"
      },
      "outputs": [],
      "source": [
        "\n",
        "model.summary()\n"
      ]
    },
    {
      "cell_type": "code",
      "execution_count": null,
      "metadata": {
        "id": "lyvo1cp_UiaI"
      },
      "outputs": [],
      "source": []
    },
    {
      "cell_type": "markdown",
      "metadata": {
        "id": "8w733IRYVaiB"
      },
      "source": [
        "TRAINING THE MODEL"
      ]
    },
    {
      "cell_type": "code",
      "execution_count": null,
      "metadata": {
        "id": "BEYGcM1cVZvI"
      },
      "outputs": [],
      "source": [
        "epochs=10\n",
        "history = model.fit(\n",
        "  train_ds,\n",
        "  validation_data=test_ds,\n",
        "  epochs=epochs\n",
        ")"
      ]
    },
    {
      "cell_type": "markdown",
      "metadata": {
        "id": "8WFNn4T7Vqs0"
      },
      "source": [
        "VISUALIZING TRAINING RESULTS"
      ]
    },
    {
      "cell_type": "code",
      "execution_count": null,
      "metadata": {
        "id": "vXDvcFQ0Vm7C"
      },
      "outputs": [],
      "source": [
        "acc = history.history['accuracy']\n",
        "val_acc = history.history['val_accuracy']\n",
        "\n",
        "loss = history.history['loss']\n",
        "val_loss = history.history['val_loss']\n",
        "\n",
        "epochs_range = range(epochs)\n",
        "\n",
        "plt.figure(figsize=(8, 8))\n",
        "plt.subplot(1, 2, 1)\n",
        "plt.plot(epochs_range, acc, label='Training Accuracy')\n",
        "plt.plot(epochs_range, val_acc, label='Testing Accuracy')\n",
        "plt.legend(loc='lower right')\n",
        "plt.title('Training and Testing Accuracy')\n",
        "\n",
        "plt.subplot(1, 2, 2)\n",
        "plt.plot(epochs_range, loss, label='Training Loss')\n",
        "plt.plot(epochs_range, val_loss, label='Testing Loss')\n",
        "plt.legend(loc='upper right')\n",
        "plt.title('Training and Testing Loss')\n",
        "plt.show()"
      ]
    },
    {
      "cell_type": "code",
      "execution_count": null,
      "metadata": {
        "id": "9i1Ve5KkVnJz"
      },
      "outputs": [],
      "source": []
    },
    {
      "cell_type": "markdown",
      "metadata": {
        "id": "-Hw4KnEVoyED"
      },
      "source": [
        "DATA AUGUMENTATION"
      ]
    },
    {
      "cell_type": "code",
      "execution_count": null,
      "metadata": {
        "id": "qXUBzE7NovE1"
      },
      "outputs": [],
      "source": [
        "data_augmentation = keras.Sequential(\n",
        "  [\n",
        "    layers.RandomFlip(\"horizontal\",\n",
        "                      input_shape=(img_height,\n",
        "                                  img_width,\n",
        "                                  3)),\n",
        "    layers.RandomRotation(0.1),\n",
        "    layers.RandomZoom(0.1),\n",
        "  ]\n",
        ")"
      ]
    },
    {
      "cell_type": "code",
      "execution_count": null,
      "metadata": {
        "id": "9OWg8OH3ou9Q"
      },
      "outputs": [],
      "source": [
        "plt.figure(figsize=(10, 10))\n",
        "for images, _ in train_ds.take(1):\n",
        "  for i in range(9):\n",
        "    augmented_images = data_augmentation(images)\n",
        "    ax = plt.subplot(3, 3, i + 1)\n",
        "    plt.imshow(augmented_images[0].numpy().astype(\"uint8\"))\n",
        "    plt.axis(\"off\")"
      ]
    },
    {
      "cell_type": "code",
      "execution_count": null,
      "metadata": {
        "id": "snxm4l0Sou4N"
      },
      "outputs": [],
      "source": []
    },
    {
      "cell_type": "markdown",
      "metadata": {
        "id": "lU9Wb6mQpYU1"
      },
      "source": [
        "ADDING AUGUMENTED DATA TO THE MODEL"
      ]
    },
    {
      "cell_type": "code",
      "execution_count": null,
      "metadata": {
        "id": "KhXFy5waouwj"
      },
      "outputs": [],
      "source": [
        "model = Sequential([\n",
        "  data_augmentation,\n",
        "  layers.Rescaling(1./255),\n",
        "  layers.Conv2D(16, 3, padding='same', activation='relu'),\n",
        "  layers.MaxPooling2D(),\n",
        "  layers.Conv2D(32, 3, padding='same', activation='relu'),\n",
        "  layers.MaxPooling2D(),\n",
        "  layers.Conv2D(64, 3, padding='same', activation='relu'),\n",
        "  layers.MaxPooling2D(),\n",
        "  layers.Dropout(0.2),\n",
        "  layers.Flatten(),\n",
        "  layers.Dense(128, activation='relu'),\n",
        "  layers.Dense(num_classes, name=\"outputs\")\n",
        "])"
      ]
    },
    {
      "cell_type": "code",
      "execution_count": null,
      "metadata": {
        "id": "-doAgqwyoupC"
      },
      "outputs": [],
      "source": []
    },
    {
      "cell_type": "markdown",
      "metadata": {
        "id": "XifypRW-pp0a"
      },
      "source": [
        "COMPILING AND RETRAINING THE MODEL"
      ]
    },
    {
      "cell_type": "code",
      "execution_count": null,
      "metadata": {
        "id": "q3PT-xu1ougz"
      },
      "outputs": [],
      "source": [
        "model.compile(optimizer='adam',\n",
        "              loss=tf.keras.losses.SparseCategoricalCrossentropy(from_logits=True),\n",
        "              metrics=['accuracy'])"
      ]
    },
    {
      "cell_type": "code",
      "execution_count": null,
      "metadata": {
        "id": "fcu2gmHyouXs"
      },
      "outputs": [],
      "source": [
        "model.summary()"
      ]
    },
    {
      "cell_type": "code",
      "execution_count": null,
      "metadata": {
        "id": "CsJx2Ib1ouLy"
      },
      "outputs": [],
      "source": [
        "epochs = 15\n",
        "history = model.fit(\n",
        "  train_ds,\n",
        "  validation_data=test_ds,\n",
        "  epochs=epochs\n",
        ")"
      ]
    },
    {
      "cell_type": "code",
      "execution_count": null,
      "metadata": {
        "id": "pjD24v9RujHx"
      },
      "outputs": [],
      "source": []
    },
    {
      "cell_type": "markdown",
      "metadata": {
        "id": "jk-z22YdutJR"
      },
      "source": [
        "VISUALISING TRAINING RESULTS"
      ]
    },
    {
      "cell_type": "code",
      "execution_count": null,
      "metadata": {
        "id": "5cwv4Om5ui_7"
      },
      "outputs": [],
      "source": [
        "acc = history.history['accuracy']\n",
        "val_acc = history.history['val_accuracy']\n",
        "\n",
        "loss = history.history['loss']\n",
        "val_loss = history.history['val_loss']\n",
        "\n",
        "epochs_range = range(epochs)\n",
        "\n",
        "plt.figure(figsize=(8, 8))\n",
        "plt.subplot(1, 2, 1)\n",
        "plt.plot(epochs_range, acc, label='Training Accuracy')\n",
        "plt.plot(epochs_range, val_acc, label='Testing Accuracy')\n",
        "plt.legend(loc='lower right')\n",
        "plt.title('Training and Testing Accuracy')\n",
        "\n",
        "plt.subplot(1, 2, 2)\n",
        "plt.plot(epochs_range, loss, label='Training Loss')\n",
        "plt.plot(epochs_range, val_loss, label='Testing Loss')\n",
        "plt.legend(loc='upper right')\n",
        "plt.title('Training Testing Loss')\n",
        "plt.show()"
      ]
    },
    {
      "cell_type": "code",
      "execution_count": null,
      "metadata": {
        "id": "iwPEeImfui4B"
      },
      "outputs": [],
      "source": []
    },
    {
      "cell_type": "markdown",
      "metadata": {
        "id": "xcXFVitsO1A1"
      },
      "source": [
        "PREDICTING NEW DATA AS THE OLD ONE IS OVER FITTED"
      ]
    },
    {
      "cell_type": "code",
      "execution_count": null,
      "metadata": {
        "id": "VXc1ESVHVnVz"
      },
      "outputs": [],
      "source": [
        "data_dir3 = '/content/FACE1.jpg'\n",
        "data_dir3_path = tf.keras.utils.get_file('/content/FACE1.jpg', origin=data_dir3)\n",
        "\n",
        "#sunflower_url = \"https://storage.googleapis.com/download.tensorflow.org/example_images/592px-Red_sunflower.jpg\"\n",
        "#sunflower_path = tf.keras.utils.get_file('Red_sunflower', origin=sunflower_url)\n",
        "\n",
        "img = tf.keras.utils.load_img(\n",
        "    data_dir3_path, target_size=(img_height, img_width)\n",
        ")\n",
        "img_array = tf.keras.utils.img_to_array(img)\n",
        "img_array = tf.expand_dims(img_array, 0) # Create a batch\n",
        "\n",
        "predictions = model.predict(img_array)\n",
        "score = tf.nn.softmax(predictions[0])\n",
        "\n",
        "print(\n",
        "    \"This image most likely belongs to {} with a {:.2f} percent confidence.\"\n",
        "    .format(class_names[np.argmax(score)], 100 * np.max(score))\n",
        ")"
      ]
    },
    {
      "cell_type": "code",
      "execution_count": null,
      "metadata": {
        "id": "tsRw7FntVnjV"
      },
      "outputs": [],
      "source": []
    },
    {
      "cell_type": "markdown",
      "metadata": {
        "id": "LlmcbN29c39f"
      },
      "source": [
        "CONVERTING A KERAS SEQUENCIAL MODEL TO A  TENSOR FLOW LITE MODEL"
      ]
    },
    {
      "cell_type": "code",
      "execution_count": null,
      "metadata": {
        "id": "tsvkFxH4c25s"
      },
      "outputs": [],
      "source": [
        "# Convert the model.\n",
        "converter = tf.lite.TFLiteConverter.from_keras_model(model)\n",
        "tflite_model = converter.convert()\n",
        "\n",
        "# Save the model.\n",
        "with open('model.tflite', 'wb') as f:\n",
        "  f.write(tflite_model)"
      ]
    },
    {
      "cell_type": "code",
      "execution_count": null,
      "metadata": {
        "id": "cERBr-Vcc3BA"
      },
      "outputs": [],
      "source": [
        "TF_MODEL_FILE_PATH = 'model.tflite' # The default path to the saved TensorFlow Lite model\n",
        "\n",
        "interpreter = tf.lite.Interpreter(model_path=TF_MODEL_FILE_PATH)"
      ]
    },
    {
      "cell_type": "code",
      "execution_count": null,
      "metadata": {
        "id": "Vro9EHC2c3IS"
      },
      "outputs": [],
      "source": [
        "interpreter.get_signature_list()"
      ]
    },
    {
      "cell_type": "code",
      "execution_count": null,
      "metadata": {
        "id": "o3fT0sW7c3Ty"
      },
      "outputs": [],
      "source": [
        "classify_lite = interpreter.get_signature_runner('serving_default')\n",
        "classify_lite"
      ]
    },
    {
      "cell_type": "code",
      "execution_count": null,
      "metadata": {
        "id": "DbyUMq-Neg41"
      },
      "outputs": [],
      "source": [
        "\n",
        "predictions_lite = classify_lite(sequential_1_input=img_array)['outputs']\n",
        "score_lite = tf.nn.softmax(predictions_lite)\n",
        "\n",
        "assert np.allclose(predictions, predictions_lite)\n",
        "\n",
        "print(\n",
        "    \"This image most likely belongs to {} with a {:.2f} percent confidence.\"\n",
        "    .format(class_names[np.argmax(score_lite)], 100 * np.max(score_lite))\n",
        ")"
      ]
    },
    {
      "cell_type": "code",
      "execution_count": null,
      "metadata": {
        "id": "XnfCOXYtehFR"
      },
      "outputs": [],
      "source": []
    },
    {
      "cell_type": "code",
      "execution_count": null,
      "metadata": {
        "id": "cp-YHfGSehPc"
      },
      "outputs": [],
      "source": []
    },
    {
      "cell_type": "code",
      "execution_count": null,
      "metadata": {
        "id": "BlPTUecqehYd"
      },
      "outputs": [],
      "source": []
    },
    {
      "cell_type": "code",
      "execution_count": null,
      "metadata": {
        "id": "a8xdutDIehk_"
      },
      "outputs": [],
      "source": []
    },
    {
      "cell_type": "code",
      "execution_count": null,
      "metadata": {
        "id": "KPe0YWUTehvI"
      },
      "outputs": [],
      "source": []
    },
    {
      "cell_type": "code",
      "execution_count": null,
      "metadata": {
        "id": "JvmyXcgWeh5w"
      },
      "outputs": [],
      "source": []
    }
  ],
  "metadata": {
    "colab": {
      "collapsed_sections": [],
      "provenance": [],
      "include_colab_link": true
    },
    "gpuClass": "standard",
    "kernelspec": {
      "display_name": "Python 3",
      "name": "python3"
    },
    "language_info": {
      "name": "python"
    }
  },
  "nbformat": 4,
  "nbformat_minor": 0
}